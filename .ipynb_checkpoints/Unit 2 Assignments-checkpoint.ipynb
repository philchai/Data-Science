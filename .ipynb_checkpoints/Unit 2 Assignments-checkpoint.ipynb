{
 "cells": [
  {
   "cell_type": "markdown",
   "metadata": {},
   "source": [
    "## Data Structures"
   ]
  },
  {
   "cell_type": "markdown",
   "metadata": {},
   "source": [
    "#### Adapt your string-reversing function from the prep course assignment to take in an arbitrary list, and return a new list which is the original list in reverse order. (Again, return listname[::-1] is easy, but not the point of the exercise.)"
   ]
  },
  {
   "cell_type": "code",
   "execution_count": null,
   "metadata": {},
   "outputs": [],
   "source": [
    "#Assignment 2 #1\n",
    "def reverse_list(x):\n",
    "    x.reverse()"
   ]
  },
  {
   "cell_type": "code",
   "execution_count": null,
   "metadata": {
    "scrolled": true
   },
   "outputs": [],
   "source": [
    "x=[1,2,3,4,5]\n",
    "reverse_list(x)\n",
    "x"
   ]
  },
  {
   "cell_type": "markdown",
   "metadata": {},
   "source": [
    "#### Write a function which takes in an arbitrary list of numbers, and returns the mean. (Note: while return np.mean(listname) is easy, it's not really the point of the exercise). Use this list of numbers to test it: [25, 54, 27, 54, 23, 47, 23,  4, 27, 36, 26, 12, 25, 29, 41]. How would you adjust your code to deal with lists that include non-numeric entries?"
   ]
  },
  {
   "cell_type": "code",
   "execution_count": null,
   "metadata": {},
   "outputs": [],
   "source": [
    "#assignment 2 problem 3\n",
    "\n",
    "list=[25,54,57,54,23,47,23,4,27,36,26,12,25,29,41,\"A\"]\n",
    "sl=[]\n",
    "il=[]\n",
    "def mean_list(x):\n",
    "    i=0\n",
    "    while (i < len(list)):\n",
    "        if type(list[i])==str:\n",
    "            sl.append(list[i])\n",
    "        else:\n",
    "            il.append(list[i])\n",
    "        i=i+1\n",
    "    print(float(sum(il) / max(len(il),1)))"
   ]
  },
  {
   "cell_type": "code",
   "execution_count": null,
   "metadata": {
    "scrolled": true
   },
   "outputs": [],
   "source": [
    "mean_list(list)"
   ]
  },
  {
   "cell_type": "markdown",
   "metadata": {},
   "source": [
    "#### Create a list using a comprehension which contains all of the odd numbers from  −10−10  to  1010  (inclusive)."
   ]
  },
  {
   "cell_type": "code",
   "execution_count": null,
   "metadata": {},
   "outputs": [],
   "source": [
    "#Assignment 2 number 5A\n",
    "[x for x in range (-10,11)]"
   ]
  },
  {
   "cell_type": "markdown",
   "metadata": {},
   "source": [
    "#### Use a list comprehension to determine how many times letters from the first half of the alphabet (capital and lowercase!) appear in the following sentence: 'To construct the notion of a Lie group in Dirac geometry, extending the definition of Poisson Lie groups, the Courant algebroids A must themselves carry a multiplicative structure.'"
   ]
  },
  {
   "cell_type": "code",
   "execution_count": null,
   "metadata": {
    "scrolled": true
   },
   "outputs": [],
   "source": [
    "#Assignment 2 number 5B\n",
    "test1='To construct the notion of a Lie group in Dirac geometry, extending the definition of Poisson Lie groups, the Courant algebroids A must themselves carry a multiplicative structure.'\n",
    "lowercase='abcdefghijklm'\n",
    "uppercase='ABCDEFGHIJKLM'\n",
    "x=[]\n",
    "x2=[]\n",
    "lower=[x for x in test1 if x in lowercase]\n",
    "print(len(lower))"
   ]
  },
  {
   "cell_type": "code",
   "execution_count": null,
   "metadata": {
    "scrolled": true
   },
   "outputs": [],
   "source": [
    "upper=[x2 for x2 in test1 if x2 in uppercase]\n",
    "print(len(upper))"
   ]
  },
  {
   "cell_type": "code",
   "execution_count": null,
   "metadata": {},
   "outputs": [],
   "source": [
    "print(len(upper)+len(lower))"
   ]
  },
  {
   "cell_type": "markdown",
   "metadata": {},
   "source": [
    "#### Write a list comprehension whose elements are lists [x,y], where x can take on the values [1,2,3,4], where y can take on values [2,4,6], and where the x and y values are not equal. (Hint: you can chain the for statements together in a comprehension)."
   ]
  },
  {
   "cell_type": "code",
   "execution_count": null,
   "metadata": {},
   "outputs": [],
   "source": [
    "#Assignment 2 number 5C\n",
    "list = [[x,y] for x in [1,2,3,4] for y in [2,4,6] if x!=y]\n",
    "print(list)"
   ]
  },
  {
   "cell_type": "code",
   "execution_count": null,
   "metadata": {},
   "outputs": [],
   "source": []
  }
 ],
 "metadata": {
  "kernelspec": {
   "display_name": "Python 2",
   "language": "python",
   "name": "python2"
  },
  "language_info": {
   "codemirror_mode": {
    "name": "ipython",
    "version": 2
   },
   "file_extension": ".py",
   "mimetype": "text/x-python",
   "name": "python",
   "nbconvert_exporter": "python",
   "pygments_lexer": "ipython2",
   "version": "2.7.15"
  }
 },
 "nbformat": 4,
 "nbformat_minor": 2
}
